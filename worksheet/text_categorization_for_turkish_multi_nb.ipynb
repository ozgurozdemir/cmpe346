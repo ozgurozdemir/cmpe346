{
  "nbformat": 4,
  "nbformat_minor": 0,
  "metadata": {
    "kernelspec": {
      "display_name": "Python 3",
      "language": "python",
      "name": "python3"
    },
    "language_info": {
      "codemirror_mode": {
        "name": "ipython",
        "version": 3
      },
      "file_extension": ".py",
      "mimetype": "text/x-python",
      "name": "python",
      "nbconvert_exporter": "python",
      "pygments_lexer": "ipython3",
      "version": "3.6.3"
    },
    "colab": {
      "name": "text-categorization-for-turkish-multi-nb.ipynb",
      "provenance": [],
      "toc_visible": true
    }
  },
  "cells": [
    {
      "cell_type": "code",
      "metadata": {
        "_cell_guid": "1cc78732-b0d5-4c62-b1c4-09e642a6506b",
        "_uuid": "5089dd8ce2ea3dfbec45f4cdf3a756b25833bd65",
        "id": "r25Mq3xzejR9",
        "colab_type": "code",
        "colab": {}
      },
      "source": [
        "\n",
        "import nltk\n",
        "import numpy as np # linear algebra\n",
        "import pandas as pd # data processing, \n",
        "from sklearn.naive_bayes import MultinomialNB\n",
        "from sklearn.linear_model import LogisticRegression\n",
        "from sklearn.svm import LinearSVC\n",
        "import sklearn    "
      ],
      "execution_count": 0,
      "outputs": []
    },
    {
      "cell_type": "code",
      "metadata": {
        "id": "j05asDE0e4ZS",
        "colab_type": "code",
        "colab": {
          "base_uri": "https://localhost:8080/",
          "height": 125
        },
        "outputId": "ccdf91b6-9974-4976-ae97-539021b19cee"
      },
      "source": [
        "from google.colab import drive\n",
        "drive.mount('/content/drive')"
      ],
      "execution_count": 2,
      "outputs": [
        {
          "output_type": "stream",
          "text": [
            "Go to this URL in a browser: https://accounts.google.com/o/oauth2/auth?client_id=947318989803-6bn6qk8qdgf4n4g3pfee6491hc0brc4i.apps.googleusercontent.com&redirect_uri=urn%3aietf%3awg%3aoauth%3a2.0%3aoob&response_type=code&scope=email%20https%3a%2f%2fwww.googleapis.com%2fauth%2fdocs.test%20https%3a%2f%2fwww.googleapis.com%2fauth%2fdrive%20https%3a%2f%2fwww.googleapis.com%2fauth%2fdrive.photos.readonly%20https%3a%2f%2fwww.googleapis.com%2fauth%2fpeopleapi.readonly\n",
            "\n",
            "Enter your authorization code:\n",
            "··········\n",
            "Mounted at /content/drive\n"
          ],
          "name": "stdout"
        }
      ]
    },
    {
      "cell_type": "code",
      "metadata": {
        "id": "8E4Zc5Q4e-ZR",
        "colab_type": "code",
        "colab": {
          "base_uri": "https://localhost:8080/",
          "height": 34
        },
        "outputId": "a93ac60a-ff73-41fc-d9bb-d33ecda70365"
      },
      "source": [
        "import os\n",
        "os.chdir(\"drive/My Drive/Courses/cmpe 346/\")\n",
        "os.listdir()"
      ],
      "execution_count": 6,
      "outputs": [
        {
          "output_type": "execute_result",
          "data": {
            "text/plain": [
              "['text-categorization-for-turkish-multi-nb.ipynb', '7allV02.csv']"
            ]
          },
          "metadata": {
            "tags": []
          },
          "execution_count": 6
        }
      ]
    },
    {
      "cell_type": "code",
      "metadata": {
        "id": "G5tLnN6UfTAq",
        "colab_type": "code",
        "colab": {}
      },
      "source": [
        "try:\n",
        " df=pd.read_csv(\"7allV02.csv\")\n",
        " df.columns=[\"category\",\"text\"]\n",
        " df[\"cnt\"]=df.text.apply(lambda x: len(x.split()))\n",
        "except FileNotFoundError:\n",
        "  print(\"Data is not found \\n please download data 7allV02.csv from \\n https://www.kaggle.com/savasy/ttc4900\")"
      ],
      "execution_count": 0,
      "outputs": []
    },
    {
      "cell_type": "code",
      "metadata": {
        "id": "ivbTjIjsfYbM",
        "colab_type": "code",
        "colab": {
          "base_uri": "https://localhost:8080/",
          "height": 197
        },
        "outputId": "68a8eb4c-1ea6-43fc-e078-d7ddd1f33f88"
      },
      "source": [
        "df.head()"
      ],
      "execution_count": 17,
      "outputs": [
        {
          "output_type": "execute_result",
          "data": {
            "text/html": [
              "<div>\n",
              "<style scoped>\n",
              "    .dataframe tbody tr th:only-of-type {\n",
              "        vertical-align: middle;\n",
              "    }\n",
              "\n",
              "    .dataframe tbody tr th {\n",
              "        vertical-align: top;\n",
              "    }\n",
              "\n",
              "    .dataframe thead th {\n",
              "        text-align: right;\n",
              "    }\n",
              "</style>\n",
              "<table border=\"1\" class=\"dataframe\">\n",
              "  <thead>\n",
              "    <tr style=\"text-align: right;\">\n",
              "      <th></th>\n",
              "      <th>category</th>\n",
              "      <th>text</th>\n",
              "      <th>cnt</th>\n",
              "    </tr>\n",
              "  </thead>\n",
              "  <tbody>\n",
              "    <tr>\n",
              "      <th>0</th>\n",
              "      <td>siyaset</td>\n",
              "      <td>3 milyon ile ön seçim vaadi mhp nin 10 olağan...</td>\n",
              "      <td>897</td>\n",
              "    </tr>\n",
              "    <tr>\n",
              "      <th>1</th>\n",
              "      <td>siyaset</td>\n",
              "      <td>mesut_yılmaz yüce_divan da ceza alabilirdi pr...</td>\n",
              "      <td>439</td>\n",
              "    </tr>\n",
              "    <tr>\n",
              "      <th>2</th>\n",
              "      <td>siyaset</td>\n",
              "      <td>disko lar kaldırılıyor başbakan_yardımcısı ar...</td>\n",
              "      <td>701</td>\n",
              "    </tr>\n",
              "    <tr>\n",
              "      <th>3</th>\n",
              "      <td>siyaset</td>\n",
              "      <td>sarıgül anayasa_mahkemesi ne gidiyor mustafa_...</td>\n",
              "      <td>73</td>\n",
              "    </tr>\n",
              "    <tr>\n",
              "      <th>4</th>\n",
              "      <td>siyaset</td>\n",
              "      <td>erdoğan idamın bir haklılık sebebi var demek ...</td>\n",
              "      <td>234</td>\n",
              "    </tr>\n",
              "  </tbody>\n",
              "</table>\n",
              "</div>"
            ],
            "text/plain": [
              "   category                                               text  cnt\n",
              "0  siyaset    3 milyon ile ön seçim vaadi mhp nin 10 olağan...  897\n",
              "1  siyaset    mesut_yılmaz yüce_divan da ceza alabilirdi pr...  439\n",
              "2  siyaset    disko lar kaldırılıyor başbakan_yardımcısı ar...  701\n",
              "3  siyaset    sarıgül anayasa_mahkemesi ne gidiyor mustafa_...   73\n",
              "4  siyaset    erdoğan idamın bir haklılık sebebi var demek ...  234"
            ]
          },
          "metadata": {
            "tags": []
          },
          "execution_count": 17
        }
      ]
    },
    {
      "cell_type": "markdown",
      "metadata": {
        "id": "-y-lTHiOejSN",
        "colab_type": "text"
      },
      "source": [
        ""
      ]
    },
    {
      "cell_type": "markdown",
      "metadata": {
        "id": "ghVN5YE4ejST",
        "colab_type": "text"
      },
      "source": [
        ""
      ]
    },
    {
      "cell_type": "code",
      "metadata": {
        "id": "Nbb5vvOAejSU",
        "colab_type": "code",
        "colab": {
          "base_uri": "https://localhost:8080/",
          "height": 52
        },
        "outputId": "7a5057d6-0963-4d2b-b381-a95a57327a95"
      },
      "source": [
        "from sklearn.feature_extraction.text import TfidfVectorizer\n",
        "K=2000\n",
        "print(\"Performance for the traditional BOW approach with bigrams\")\n",
        "vectorizer = TfidfVectorizer(max_df=0.95, min_df=10, max_features=K, ngram_range=(1,2))\n",
        "X_train = vectorizer.fit_transform(df.text)\n",
        "print(\"X_train shape: \",X_train.shape)"
      ],
      "execution_count": 37,
      "outputs": [
        {
          "output_type": "stream",
          "text": [
            "Performance for the traditional BOW approach with bigrams\n",
            "X_train shape:  (4900, 2000)\n"
          ],
          "name": "stdout"
        }
      ]
    },
    {
      "cell_type": "markdown",
      "metadata": {
        "id": "W9Iawm9SejSZ",
        "colab_type": "text"
      },
      "source": [
        "**Create X vector from documents***"
      ]
    },
    {
      "cell_type": "code",
      "metadata": {
        "id": "VSlsORgBejSb",
        "colab_type": "code",
        "colab": {}
      },
      "source": [
        "list(vectorizer.vocabulary_)[:100]"
      ],
      "execution_count": 0,
      "outputs": []
    },
    {
      "cell_type": "markdown",
      "metadata": {
        "id": "vxgxomeLejSg",
        "colab_type": "text"
      },
      "source": [
        "**Apply Machine Learning Algorithms**"
      ]
    },
    {
      "cell_type": "code",
      "metadata": {
        "id": "W5ckURbWejSh",
        "colab_type": "code",
        "colab": {
          "base_uri": "https://localhost:8080/",
          "height": 194
        },
        "outputId": "69791528-6499-46a9-9adb-47a77b8bcd7c"
      },
      "source": [
        "data_labels=df.category\n",
        "models_name = [\"Multi NB\", \"LR\", \"LinearSVM\" ]\n",
        "models = [ MultinomialNB(alpha=1.0, class_prior=None, fit_prior=True), LogisticRegression(), LinearSVC()]\n",
        "print(\"The number of Selected Feature (Frequency Based):\", K)\n",
        "\n",
        "for j in range(len(models)):\n",
        " print(models_name[j]+ \" \")\n",
        " predicted = sklearn.model_selection.cross_val_predict(models[j], X_train, data_labels, cv=4)\n",
        " acc=sklearn.metrics.accuracy_score(data_labels, predicted)    \n",
        " print (\"Accuracy \", acc)\n",
        " print(\"***\")\n",
        "\n"
      ],
      "execution_count": 39,
      "outputs": [
        {
          "output_type": "stream",
          "text": [
            "The number of Selected Feature (Frequency Based): 2000\n",
            "Multi NB \n",
            "Accuracy  0.8622448979591837\n",
            "***\n",
            "LR \n",
            "Accuracy  0.8771428571428571\n",
            "***\n",
            "LinearSVM \n",
            "Accuracy  0.8818367346938776\n",
            "***\n"
          ],
          "name": "stdout"
        }
      ]
    },
    {
      "cell_type": "code",
      "metadata": {
        "id": "0_58iBe8jJdQ",
        "colab_type": "code",
        "colab": {}
      },
      "source": [
        ""
      ],
      "execution_count": 0,
      "outputs": []
    }
  ]
}