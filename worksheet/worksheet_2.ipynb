{
 "cells": [
  {
   "cell_type": "markdown",
   "metadata": {
    "colab_type": "text",
    "id": "bzuicOBNFVjB"
   },
   "source": [
    "# Regular Expressions"
   ]
  },
  {
   "cell_type": "code",
   "execution_count": 1,
   "metadata": {
    "colab": {},
    "colab_type": "code",
    "collapsed": true,
    "id": "6Ku8QRwBRtmj"
   },
   "outputs": [],
   "source": [
    "import re"
   ]
  },
  {
   "cell_type": "code",
   "execution_count": 2,
   "metadata": {
    "colab": {
     "base_uri": "https://localhost:8080/",
     "height": 68
    },
    "colab_type": "code",
    "id": "FPTFrAbzUVpV",
    "outputId": "dbf6ca1e-e6b6-42c7-c135-bfb45765369e"
   },
   "outputs": [
    {
     "name": "stdout",
     "output_type": "stream",
     "text": [
      "['Hello']\n",
      "['Hello', 'World']\n",
      "[]\n"
     ]
    }
   ],
   "source": [
    "example = 'Hello World'\n",
    "print(re.findall('Hello', example))\n",
    "print(re.findall('Hello|World', example))\n",
    "print(re.findall('hello|world', example))"
   ]
  },
  {
   "cell_type": "code",
   "execution_count": 3,
   "metadata": {
    "colab": {},
    "colab_type": "code",
    "collapsed": true,
    "id": "RnLW1mtFSTFg"
   },
   "outputs": [],
   "source": [
    "example = 'AbcDeF12'"
   ]
  },
  {
   "cell_type": "code",
   "execution_count": 4,
   "metadata": {
    "colab": {
     "base_uri": "https://localhost:8080/",
     "height": 85
    },
    "colab_type": "code",
    "id": "AVxexdNaSlVX",
    "outputId": "009427f1-ac2a-4736-f5e9-9fecffb0bf51"
   },
   "outputs": [
    {
     "name": "stdout",
     "output_type": "stream",
     "text": [
      "All chars:  ['A', 'b', 'c', 'D', 'e', 'F']\n",
      "Upper-case chars:  ['A', 'D', 'F']\n",
      "Lower-case chars:  ['b', 'c', 'e']\n",
      "Digits chars:  ['1', '2']\n"
     ]
    }
   ],
   "source": [
    "print('All chars: ', re.findall(r'[A-z]', example))\n",
    "print('Upper-case chars: ', re.findall(r'[A-Z]', example))\n",
    "print('Lower-case chars: ', re.findall(r'[a-z]', example))\n",
    "print('Digits chars: ', re.findall(r'[0-9]', example))"
   ]
  },
  {
   "cell_type": "code",
   "execution_count": 5,
   "metadata": {
    "colab": {
     "base_uri": "https://localhost:8080/",
     "height": 51
    },
    "colab_type": "code",
    "id": "oemvTVHVSnO3",
    "outputId": "f0a80b79-8103-4ec6-dac6-0f798826ead5"
   },
   "outputs": [
    {
     "name": "stdout",
     "output_type": "stream",
     "text": [
      "Number:  ['12']\n",
      "Number:  ['12']\n"
     ]
    }
   ],
   "source": [
    "print('Number: ', re.findall(r'[0-9]+', example))\n",
    "print('Number: ', re.findall(r'\\d+', example))"
   ]
  },
  {
   "cell_type": "code",
   "execution_count": 6,
   "metadata": {
    "colab": {
     "base_uri": "https://localhost:8080/",
     "height": 68
    },
    "colab_type": "code",
    "id": "CDSfMPC9TybM",
    "outputId": "4db78b2b-43c2-47bc-c720-e0873efb357a"
   },
   "outputs": [
    {
     "name": "stdout",
     "output_type": "stream",
     "text": [
      "['He']\n",
      "['ld']\n",
      "['H', 'e', 'o', ' ', 'W', 'o', 'r']\n"
     ]
    }
   ],
   "source": [
    "example = 'Hello World'\n",
    "print(re.findall(r'^He', example))\n",
    "print(re.findall(r'ld$', example))\n",
    "print(re.findall(r'[^ld]', example))"
   ]
  },
  {
   "cell_type": "code",
   "execution_count": 7,
   "metadata": {
    "colab": {
     "base_uri": "https://localhost:8080/",
     "height": 68
    },
    "colab_type": "code",
    "id": "Q16sa0ikY53I",
    "outputId": "b0a14534-2f77-4b14-ece2-5c65446088d0"
   },
   "outputs": [
    {
     "name": "stdout",
     "output_type": "stream",
     "text": [
      "['abc', 'abc']\n",
      "[]\n",
      "['abc']\n"
     ]
    }
   ],
   "source": [
    "example = 'abcabc'\n",
    "print(re.findall(r'abc', example))\n",
    "print(re.findall(r'abc{2}', example))\n",
    "print(re.findall(r'(abc){2}', example))"
   ]
  },
  {
   "cell_type": "code",
   "execution_count": 8,
   "metadata": {
    "colab": {
     "base_uri": "https://localhost:8080/",
     "height": 68
    },
    "colab_type": "code",
    "id": "ZvheMjRcah8x",
    "outputId": "48c3b223-d21f-476f-f12a-b884715f7c73"
   },
   "outputs": [
    {
     "name": "stdout",
     "output_type": "stream",
     "text": [
      "['abc', 'abc']\n",
      "['abc']\n",
      "['abc', 'abc', '']\n"
     ]
    }
   ],
   "source": [
    "print(re.findall(r'a.c', example))\n",
    "print(re.findall(r'(abc)+', example))\n",
    "print(re.findall(r'(abc)?', example))"
   ]
  },
  {
   "cell_type": "code",
   "execution_count": 9,
   "metadata": {
    "colab": {
     "base_uri": "https://localhost:8080/",
     "height": 34
    },
    "colab_type": "code",
    "id": "34NoW7lUbHvE",
    "outputId": "40697b35-f546-4271-f9c1-f008fb1ab70e"
   },
   "outputs": [
    {
     "name": "stdout",
     "output_type": "stream",
     "text": [
      "['she', 'he', 'it', 'he']\n"
     ]
    }
   ],
   "source": [
    "print(re.findall(r's?he|it', 'she he it they'))"
   ]
  },
  {
   "cell_type": "markdown",
   "metadata": {
    "colab_type": "text",
    "id": "lG7nMQn_R5x3"
   },
   "source": [
    "## Tokenizer"
   ]
  },
  {
   "cell_type": "code",
   "execution_count": 10,
   "metadata": {
    "colab": {
     "base_uri": "https://localhost:8080/",
     "height": 34
    },
    "colab_type": "code",
    "id": "kkEvUM6krwFS",
    "outputId": "e6c457cc-0835-4b40-bb0b-f9e55cd63e44"
   },
   "outputs": [
    {
     "name": "stdout",
     "output_type": "stream",
     "text": [
      "['Welcome', 'to', 'Bilgi', 'University', '!']\n"
     ]
    }
   ],
   "source": [
    "example = 'Welcome to Bilgi University !'\n",
    "tokens = example.split(' ')\n",
    "print(tokens)"
   ]
  },
  {
   "cell_type": "code",
   "execution_count": 11,
   "metadata": {
    "colab": {
     "base_uri": "https://localhost:8080/",
     "height": 34
    },
    "colab_type": "code",
    "id": "PQ9elG2zFrBn",
    "outputId": "758a00fb-590a-41aa-9a24-7bdd9384edd3"
   },
   "outputs": [
    {
     "name": "stdout",
     "output_type": "stream",
     "text": [
      "['Welcome', 'to', 'Bilgi', 'University!']\n"
     ]
    }
   ],
   "source": [
    "example = 'Welcome to Bilgi University!'\n",
    "tokens = example.split(' ')\n",
    "print(tokens)"
   ]
  },
  {
   "cell_type": "code",
   "execution_count": 12,
   "metadata": {
    "colab": {
     "base_uri": "https://localhost:8080/",
     "height": 34
    },
    "colab_type": "code",
    "id": "WvxV1muBF8SL",
    "outputId": "8355e4d9-a877-433e-d8fa-4b2efd99be9e"
   },
   "outputs": [
    {
     "name": "stdout",
     "output_type": "stream",
     "text": [
      "['Welcome', 'to', 'Bilgi', 'University', '!']\n"
     ]
    }
   ],
   "source": [
    "formatted_example = example.replace('!', ' !')\n",
    "tokens = formatted_example.split(' ')\n",
    "print(tokens)"
   ]
  },
  {
   "cell_type": "code",
   "execution_count": 13,
   "metadata": {
    "colab": {
     "base_uri": "https://localhost:8080/",
     "height": 34
    },
    "colab_type": "code",
    "id": "Scepr_kOG7aJ",
    "outputId": "4d8b121d-36a1-4e6f-bd1c-3d1eba80a7b7"
   },
   "outputs": [
    {
     "name": "stdout",
     "output_type": "stream",
     "text": [
      "['Welcome', 'to', 'Bilgi', 'University', '!']\n"
     ]
    }
   ],
   "source": [
    "tokens = re.findall(r'\\w+|\\S+', example)\n",
    "print(tokens)"
   ]
  },
  {
   "cell_type": "code",
   "execution_count": 14,
   "metadata": {
    "colab": {
     "base_uri": "https://localhost:8080/",
     "height": 34
    },
    "colab_type": "code",
    "id": "s3syv5FoHE_E",
    "outputId": "be8b39e5-c155-42d7-ac7a-eed4450edd5c"
   },
   "outputs": [
    {
     "name": "stdout",
     "output_type": "stream",
     "text": [
      "['Welcome', 'to', 'Bilgi', 'University']\n"
     ]
    }
   ],
   "source": [
    "tokens = re.findall(r'\\w+', example)\n",
    "print(tokens)"
   ]
  },
  {
   "cell_type": "code",
   "execution_count": 15,
   "metadata": {
    "colab": {
     "base_uri": "https://localhost:8080/",
     "height": 34
    },
    "colab_type": "code",
    "id": "JfEj7chZHbv2",
    "outputId": "b71b57bd-fff0-4cb2-b68a-35004865de7a"
   },
   "outputs": [
    {
     "name": "stdout",
     "output_type": "stream",
     "text": [
      "['W', 'e', 'l', 'c', 'o', 'm', 'e', 't', 'o', 'B', 'i', 'l', 'g', 'i', 'U', 'n', 'i', 'v', 'e', 'r', 's', 'i', 't', 'y', '!']\n"
     ]
    }
   ],
   "source": [
    "tokens = re.findall(r'\\S', example)\n",
    "print(tokens)"
   ]
  },
  {
   "cell_type": "markdown",
   "metadata": {
    "colab_type": "text",
    "id": "njHWG1cWQ6OZ"
   },
   "source": [
    "## Email Checker"
   ]
  },
  {
   "cell_type": "code",
   "execution_count": 16,
   "metadata": {
    "colab": {
     "base_uri": "https://localhost:8080/",
     "height": 34
    },
    "colab_type": "code",
    "id": "JuHyRM-TKB_m",
    "outputId": "c622ecb9-c334-4573-b8a8-38b410b1d36e"
   },
   "outputs": [
    {
     "name": "stdout",
     "output_type": "stream",
     "text": [
      "The email format is correct\n"
     ]
    }
   ],
   "source": [
    "email = 'ozgur.ozdemir@gmail.com'\n",
    "if re.search(r'@\\w+.\\w+', email):\n",
    "    print('The email format is correct')\n",
    "else:\n",
    "    print('The email format is incorrect')"
   ]
  },
  {
   "cell_type": "code",
   "execution_count": 17,
   "metadata": {
    "colab": {
     "base_uri": "https://localhost:8080/",
     "height": 34
    },
    "colab_type": "code",
    "id": "rKExsa4HQ79_",
    "outputId": "c44f8e56-7ba7-4e2c-ab36-6e6bc653a016"
   },
   "outputs": [
    {
     "name": "stdout",
     "output_type": "stream",
     "text": [
      "The email format is correct\n"
     ]
    }
   ],
   "source": [
    "email = 'ozgur_ozdemir@gmail.com'\n",
    "if re.search(r'(\\w+[.-_]?)+@\\w+.\\w+', email):\n",
    "    print('The email format is correct')\n",
    "else:\n",
    "    print('The email format is incorrect')"
   ]
  },
  {
   "cell_type": "markdown",
   "metadata": {
    "colab_type": "text",
    "id": "YuiI0MANVZ5N"
   },
   "source": [
    "## Phone Checker"
   ]
  },
  {
   "cell_type": "code",
   "execution_count": 18,
   "metadata": {
    "colab": {
     "base_uri": "https://localhost:8080/",
     "height": 34
    },
    "colab_type": "code",
    "id": "jKHd9459VbkS",
    "outputId": "7f66af6a-6742-40e3-8f45-fa233620a4f6"
   },
   "outputs": [
    {
     "name": "stdout",
     "output_type": "stream",
     "text": [
      "The phone format is correct\n"
     ]
    }
   ],
   "source": [
    "phone = '5551112233'\n",
    "if re.search(r'\\d{10}', phone):\n",
    "    print('The phone format is correct')\n",
    "else:\n",
    "    print('The phone format is incorrect')"
   ]
  },
  {
   "cell_type": "code",
   "execution_count": 19,
   "metadata": {
    "colab": {
     "base_uri": "https://localhost:8080/",
     "height": 34
    },
    "colab_type": "code",
    "id": "NVOU_5PFV0OI",
    "outputId": "6b6293dd-5ac0-4194-fe70-b8325e39ee01"
   },
   "outputs": [
    {
     "name": "stdout",
     "output_type": "stream",
     "text": [
      "The phone format is correct\n"
     ]
    }
   ],
   "source": [
    "phone = '(555)1112233'\n",
    "if re.search(r'\\(\\d{3}\\)\\d{7}', phone):\n",
    "    print('The phone format is correct')\n",
    "else:\n",
    "    print('The phone format is incorrect')"
   ]
  },
  {
   "cell_type": "markdown",
   "metadata": {
    "colab_type": "text",
    "id": "3dwUYvuPQ3Iu"
   },
   "source": [
    "## Date Checker"
   ]
  },
  {
   "cell_type": "code",
   "execution_count": 20,
   "metadata": {
    "colab": {
     "base_uri": "https://localhost:8080/",
     "height": 34
    },
    "colab_type": "code",
    "id": "DQ_aiA0RQko1",
    "outputId": "38278af9-0cae-4388-9118-52b16e91f2e7"
   },
   "outputs": [
    {
     "name": "stdout",
     "output_type": "stream",
     "text": [
      "The date is later than 1950\n"
     ]
    }
   ],
   "source": [
    "date = '10-10-1955'\n",
    "if re.search(r'[0-9]+-[0-9]+-19(5[1-9]|[6-9][0-9])', date):\n",
    "    print(f'The date is later than 1950')\n",
    "else:\n",
    "    print(f'The date is earlier than 1950')"
   ]
  }
 ],
 "metadata": {
  "colab": {
   "collapsed_sections": [],
   "name": "CMPE346_Week2.ipynb",
   "provenance": []
  },
  "kernelspec": {
   "display_name": "Python 3",
   "language": "python",
   "name": "python3"
  },
  "language_info": {
   "codemirror_mode": {
    "name": "ipython",
    "version": 3
   },
   "file_extension": ".py",
   "mimetype": "text/x-python",
   "name": "python",
   "nbconvert_exporter": "python",
   "pygments_lexer": "ipython3",
   "version": "3.6.2"
  }
 },
 "nbformat": 4,
 "nbformat_minor": 1
}
