{
 "cells": [
  {
   "cell_type": "markdown",
   "metadata": {
    "colab_type": "text",
    "id": "Y0GE8wKFqMPQ"
   },
   "source": [
    "# Implementations"
   ]
  },
  {
   "cell_type": "code",
   "execution_count": 1,
   "metadata": {
    "colab": {
     "base_uri": "https://localhost:8080/",
     "height": 68
    },
    "colab_type": "code",
    "id": "aoIs0pClhoMW",
    "outputId": "0796572b-0144-44a3-cb0b-b5bfe23d96a1"
   },
   "outputs": [
    {
     "name": "stdout",
     "output_type": "stream",
     "text": [
      "[nltk_data] Downloading package gutenberg to\n",
      "[nltk_data]     /Users/ozgurozdemir/nltk_data...\n",
      "[nltk_data]   Package gutenberg is already up-to-date!\n"
     ]
    },
    {
     "data": {
      "text/plain": [
       "True"
      ]
     },
     "execution_count": 1,
     "metadata": {},
     "output_type": "execute_result"
    }
   ],
   "source": [
    "import numpy as np\n",
    "import nltk\n",
    "nltk.download('gutenberg')"
   ]
  },
  {
   "cell_type": "markdown",
   "metadata": {
    "colab_type": "text",
    "id": "mzyIwPgCrXNC"
   },
   "source": [
    "## Downloading Hamlet Corpus"
   ]
  },
  {
   "cell_type": "code",
   "execution_count": 2,
   "metadata": {
    "colab": {},
    "colab_type": "code",
    "collapsed": true,
    "id": "QybH8ixarKrI"
   },
   "outputs": [],
   "source": [
    "hamlet = nltk.corpus.gutenberg.words('shakespeare-hamlet.txt')"
   ]
  },
  {
   "cell_type": "code",
   "execution_count": 3,
   "metadata": {
    "colab": {
     "base_uri": "https://localhost:8080/",
     "height": 34
    },
    "colab_type": "code",
    "id": "ph8ufgxDO6Ur",
    "outputId": "d130406b-28a5-4422-95b9-c798c7060c55"
   },
   "outputs": [
    {
     "name": "stdout",
     "output_type": "stream",
     "text": [
      "['[', 'The', 'Tragedie', 'of', 'Hamlet', 'by', 'William', 'Shakespeare', '1599', ']']\n"
     ]
    }
   ],
   "source": [
    "print(hamlet[:10])"
   ]
  },
  {
   "cell_type": "code",
   "execution_count": 4,
   "metadata": {
    "colab": {
     "base_uri": "https://localhost:8080/",
     "height": 51
    },
    "colab_type": "code",
    "id": "xroQFEugrTgW",
    "outputId": "059b9fcb-0824-4cc5-e75a-1005ceee56e5"
   },
   "outputs": [
    {
     "name": "stdout",
     "output_type": "stream",
     "text": [
      "# of tokens: 37360\n",
      "# of unique words: 5447\n"
     ]
    }
   ],
   "source": [
    "print(f'# of tokens: {len(hamlet)}')\n",
    "print(f'# of unique words: {len(set(hamlet))}')"
   ]
  },
  {
   "cell_type": "code",
   "execution_count": 5,
   "metadata": {
    "colab": {},
    "colab_type": "code",
    "collapsed": true,
    "id": "IcELjo8iv43H"
   },
   "outputs": [],
   "source": [
    "hamlet = [w.lower() for w in hamlet]"
   ]
  },
  {
   "cell_type": "code",
   "execution_count": 6,
   "metadata": {
    "colab": {
     "base_uri": "https://localhost:8080/",
     "height": 51
    },
    "colab_type": "code",
    "id": "Rq4cx5jgv9PA",
    "outputId": "4b5879a0-1315-4a7c-87ee-ec5909656cf2"
   },
   "outputs": [
    {
     "name": "stdout",
     "output_type": "stream",
     "text": [
      "# of tokens: 37360\n",
      "# of unique words: 4716\n"
     ]
    }
   ],
   "source": [
    "print(f'# of tokens: {len(hamlet)}')\n",
    "print(f'# of unique words: {len(set(hamlet))}')"
   ]
  },
  {
   "cell_type": "markdown",
   "metadata": {
    "colab_type": "text",
    "id": "vxX5jBLStw7o"
   },
   "source": [
    "# Creating Bigrams"
   ]
  },
  {
   "cell_type": "code",
   "execution_count": 7,
   "metadata": {
    "colab": {
     "base_uri": "https://localhost:8080/",
     "height": 51
    },
    "colab_type": "code",
    "id": "afiWB1cKsNMW",
    "outputId": "2a01eb05-2333-45f0-c419-14a7b64d796b"
   },
   "outputs": [
    {
     "name": "stdout",
     "output_type": "stream",
     "text": [
      "[\tthe\ttragedie\tof\thamlet\tby\twilliam\tshakespeare\t1599\t]\n",
      "the\ttragedie\tof\thamlet\tby\twilliam\tshakespeare\t1599\t]\n"
     ]
    }
   ],
   "source": [
    "print('\\t'.join(hamlet[:10]))\n",
    "print('\\t'.join(hamlet[1:10]))"
   ]
  },
  {
   "cell_type": "code",
   "execution_count": 8,
   "metadata": {
    "colab": {
     "base_uri": "https://localhost:8080/",
     "height": 34
    },
    "colab_type": "code",
    "id": "pFllUoivnQb3",
    "outputId": "cb6565c2-4e05-47f0-a240-5e1da267bb22"
   },
   "outputs": [
    {
     "name": "stdout",
     "output_type": "stream",
     "text": [
      "# of bigrams: 37359\n"
     ]
    }
   ],
   "source": [
    "bigrams= list(zip(hamlet, hamlet[1:]))\n",
    "print(f'# of bigrams: {len(bigrams)}')"
   ]
  },
  {
   "cell_type": "code",
   "execution_count": 9,
   "metadata": {
    "colab": {
     "base_uri": "https://localhost:8080/",
     "height": 34
    },
    "colab_type": "code",
    "id": "fq-HHsaoiYjn",
    "outputId": "557be50a-0b88-4b07-87f7-f141ab1cd55d"
   },
   "outputs": [
    {
     "name": "stdout",
     "output_type": "stream",
     "text": [
      "[('[', 'the'), ('the', 'tragedie'), ('tragedie', 'of'), ('of', 'hamlet'), ('hamlet', 'by')]\n"
     ]
    }
   ],
   "source": [
    "print(bigrams[:5])"
   ]
  },
  {
   "cell_type": "code",
   "execution_count": 10,
   "metadata": {
    "colab": {},
    "colab_type": "code",
    "collapsed": true,
    "id": "zdHpX3TR5ss5"
   },
   "outputs": [],
   "source": [
    "def prepare_bigrams(corpus):\n",
    "    return list(zip(corpus, corpus[1:]))"
   ]
  },
  {
   "cell_type": "markdown",
   "metadata": {
    "colab_type": "text",
    "id": "Rsf6w-aLvQQ4"
   },
   "source": [
    "## Creating Bigram Language Model"
   ]
  },
  {
   "cell_type": "code",
   "execution_count": 11,
   "metadata": {
    "colab": {
     "base_uri": "https://localhost:8080/",
     "height": 54
    },
    "colab_type": "code",
    "id": "lwmoF7Ip7gat",
    "outputId": "53fb8ffa-262b-40f5-d36c-f25650386609"
   },
   "outputs": [
    {
     "name": "stdout",
     "output_type": "stream",
     "text": [
      "[((',', 'and'), 466), (('ham', '.'), 337), ((\"'\", 'd'), 223), (('my', 'lord'), 175), (('.', 'i'), 151), ((',', 'that'), 136), ((\"'\", 's'), 122), ((',', 'i'), 105), (('king', '.'), 96), (('hor', '.'), 95)]\n"
     ]
    }
   ],
   "source": [
    "fd = nltk.FreqDist(bigrams)\n",
    "print(fd.most_common(10))"
   ]
  },
  {
   "cell_type": "code",
   "execution_count": 12,
   "metadata": {
    "colab": {
     "base_uri": "https://localhost:8080/",
     "height": 34
    },
    "colab_type": "code",
    "id": "S2AMPZAD_XxX",
    "outputId": "6b75b231-e635-4347-e09f-3ae2dd5d281c"
   },
   "outputs": [
    {
     "name": "stdout",
     "output_type": "stream",
     "text": [
      "Frequency of ('my', 'lord'): 0.00468427955780401\n"
     ]
    }
   ],
   "source": [
    "example_bigram = ('my', 'lord')\n",
    "print(f'Frequency of {example_bigram}: {fd.freq(example_bigram)}')"
   ]
  },
  {
   "cell_type": "markdown",
   "metadata": {
    "colab_type": "text",
    "id": "C4wdJRLg_zv8"
   },
   "source": [
    "## Estimating Probabilities"
   ]
  },
  {
   "cell_type": "code",
   "execution_count": 13,
   "metadata": {
    "colab": {},
    "colab_type": "code",
    "collapsed": true,
    "id": "4kWXAP_3kIYt"
   },
   "outputs": [],
   "source": [
    "def estimate_probability(sentence, fd):\n",
    "    sentence_bigrams = prepare_bigrams(sentence)\n",
    "    probs = [fd.freq(b) for b in sentence_bigrams]\n",
    "    return np.prod(probs)"
   ]
  },
  {
   "cell_type": "code",
   "execution_count": 14,
   "metadata": {
    "colab": {
     "base_uri": "https://localhost:8080/",
     "height": 34
    },
    "colab_type": "code",
    "id": "wHWiV78E-Tjy",
    "outputId": "fee14985-6225-40c3-fddc-9b317a1b4e4f"
   },
   "outputs": [
    {
     "data": {
      "text/plain": [
       "4.986405805488382e-12"
      ]
     },
     "execution_count": 14,
     "metadata": {},
     "output_type": "execute_result"
    }
   ],
   "source": [
    "estimate_probability('and you from england'.split(), fd)"
   ]
  },
  {
   "cell_type": "code",
   "execution_count": 15,
   "metadata": {
    "colab": {},
    "colab_type": "code",
    "collapsed": true,
    "id": "7aKQ4vxE4RFd"
   },
   "outputs": [],
   "source": [
    "test = ['and you from england', 'order that these bodies', \n",
    "        'polake warres , and you', 'are heere arriued .',\n",
    "        'these bodies high on a stage']\n",
    "test.sort(key=lambda sentence: estimate_probability(sentence.split(), fd), reverse=True)"
   ]
  },
  {
   "cell_type": "code",
   "execution_count": 16,
   "metadata": {
    "colab": {
     "base_uri": "https://localhost:8080/",
     "height": 102
    },
    "colab_type": "code",
    "id": "mxev6t849LvQ",
    "outputId": "bc8f228d-f590-4b26-a04a-b4e0f78c034f"
   },
   "outputs": [
    {
     "name": "stdout",
     "output_type": "stream",
     "text": [
      "1. 'and you from england': 4.986405805488382e-12\n",
      "2. 'order that these bodies': 1.9178483867263006e-14\n",
      "3. 'are heere arriued .': 1.9178483867263006e-14\n",
      "4. 'polake warres , and you': 3.1099134149168685e-15\n",
      "5. 'these bodies high on a stage': 6.870586160465759e-23\n"
     ]
    }
   ],
   "source": [
    "for i, sen in enumerate(test):\n",
    "    print(f\"{i+1}. \\'{sen}\\': {estimate_probability(sen.split(), fd)}\")"
   ]
  },
  {
   "cell_type": "markdown",
   "metadata": {
    "colab_type": "text",
    "id": "KnnwCyNCBTRd"
   },
   "source": [
    "## Generating Text"
   ]
  },
  {
   "cell_type": "code",
   "execution_count": 17,
   "metadata": {
    "colab": {},
    "colab_type": "code",
    "collapsed": true,
    "id": "AYyajjXjBS2Q"
   },
   "outputs": [],
   "source": [
    "cfd = nltk.ConditionalFreqDist(bigrams)"
   ]
  },
  {
   "cell_type": "code",
   "execution_count": 18,
   "metadata": {
    "colab": {
     "base_uri": "https://localhost:8080/",
     "height": 272
    },
    "colab_type": "code",
    "id": "H-3EYCKvl8K4",
    "outputId": "3e20f7b6-2ce8-4d55-88d8-7f7d57325d31"
   },
   "outputs": [
    {
     "data": {
      "text/plain": [
       "FreqDist({')': 1,\n",
       "          ',': 17,\n",
       "          '.': 5,\n",
       "          ':': 2,\n",
       "          '?': 3,\n",
       "          'a': 1,\n",
       "          'and': 3,\n",
       "          'barn': 1,\n",
       "          'ham': 1,\n",
       "          'hor': 1,\n",
       "          'hora': 1,\n",
       "          'saies': 1,\n",
       "          'tell': 1,\n",
       "          'there': 1,\n",
       "          'wait': 1})"
      ]
     },
     "execution_count": 18,
     "metadata": {},
     "output_type": "execute_result"
    }
   ],
   "source": [
    "cfd['horatio']"
   ]
  },
  {
   "cell_type": "code",
   "execution_count": 19,
   "metadata": {
    "colab": {
     "base_uri": "https://localhost:8080/",
     "height": 34
    },
    "colab_type": "code",
    "id": "wyF8wDgPSW6c",
    "outputId": "8641d857-0c17-42eb-c5a5-cedd2da6f950"
   },
   "outputs": [
    {
     "data": {
      "text/plain": [
       "'of'"
      ]
     },
     "execution_count": 19,
     "metadata": {},
     "output_type": "execute_result"
    }
   ],
   "source": [
    "cfd['tragedie'].max()"
   ]
  },
  {
   "cell_type": "code",
   "execution_count": 20,
   "metadata": {
    "colab": {},
    "colab_type": "code",
    "collapsed": true,
    "id": "epTosTVBsWMY"
   },
   "outputs": [],
   "source": [
    "token = 'horatio'\n",
    "generated_text = token\n",
    "\n",
    "length = 15\n",
    "for i in range(length):\n",
    "    most_prob = cfd[token].max()\n",
    "    generated_text += ' ' + most_prob\n",
    "    token = most_prob"
   ]
  },
  {
   "cell_type": "code",
   "execution_count": 21,
   "metadata": {
    "colab": {
     "base_uri": "https://localhost:8080/",
     "height": 34
    },
    "colab_type": "code",
    "id": "XPXmKtIxtrYF",
    "outputId": "6d589d1e-fed6-4408-ebd7-31b81f4bf437"
   },
   "outputs": [
    {
     "name": "stdout",
     "output_type": "stream",
     "text": [
      "horatio , and the king . i haue you , and the king . i haue\n"
     ]
    }
   ],
   "source": [
    "print(generated_text)"
   ]
  },
  {
   "cell_type": "code",
   "execution_count": null,
   "metadata": {
    "colab": {},
    "colab_type": "code",
    "collapsed": true,
    "id": "Dij_5-XVHAeS"
   },
   "outputs": [],
   "source": []
  }
 ],
 "metadata": {
  "colab": {
   "collapsed_sections": [],
   "name": "CMPE346_Week3.ipynb",
   "provenance": []
  },
  "kernelspec": {
   "display_name": "Python 3",
   "language": "python",
   "name": "python3"
  },
  "language_info": {
   "codemirror_mode": {
    "name": "ipython",
    "version": 3
   },
   "file_extension": ".py",
   "mimetype": "text/x-python",
   "name": "python",
   "nbconvert_exporter": "python",
   "pygments_lexer": "ipython3",
   "version": "3.6.2"
  }
 },
 "nbformat": 4,
 "nbformat_minor": 1
}
